{
 "cells": [
  {
   "cell_type": "code",
   "execution_count": null,
   "metadata": {},
   "outputs": [],
   "source": [
    "%load_ext autoreload\n",
    "%autoreload 2\n",
    "\n",
    "import numpy as np\n",
    "import scipy.optimize as opt\n",
    "from functools import partial"
   ]
  },
  {
   "cell_type": "markdown",
   "metadata": {},
   "source": [
    "# Structural Econometrics in Labor and IO.\n",
    "\n",
    "# Problem Set: Dynamic Discrete Choice Estimation.\n",
    "\n",
    "  \n",
    "## Description\n",
    "\n",
    "Superintendent Harry Zurcher manages the bus fleet at the Madison Metropolitan Bus Com- pany. Notably, at every point in time t, he decides whether to replace an old bus engine with a new one or to keep operating the old one.\n",
    "We are interested in estimating the cost of engine maintenance and replacement, using observed data on: \n",
    "\n",
    "1. mileage $x_t$ at period $t$, \n",
    "2. observed replacement decision $i_t$ at period $t$, and\n",
    "3. mileage $x_t+1$ next period.\n",
    "\n",
    "#### The data generating process is as follows:\n",
    "\n",
    "- $x_t$ can take on 11 values, $x_t \\in \\{0, 1, 2, . . . , 10\\} (i.e. mileage discretized into 11 categories).\n",
    "\n",
    "- At any time period, \n",
    "\\begin{equation*}\n",
    "x_{t+1} =\n",
    "\\begin{cases}\n",
    "    \\min\\{x_t+1, \\ 10\\},& \\text{ with probability } \\lambda, \\\\\n",
    "    x_t,& \\text{ with probability } 1-\\lambda.\n",
    "\\end{cases}\n",
    "\\end{equation*}\n",
    "Note that $\\lambda$ does not depend on the replacement decision $i_t$.\n",
    "- The agent’s replacement decision is made at the beginning of each period and is effective immediately (i.e. if $i_t = 1$, the agent uses machine with mileage $0$ and the next period state $x_t+1$ is $1$ with probability $\\lambda$ and $0$ with probability $1 − \\lambda$).\n",
    "- The per-period maintenance cost for a bus with mileage $x$ is $C(x, \\theta) = \\theta_1 x + \\theta_2 x^2$.\n",
    "- The cost of replacement is $\\theta_3$.\n",
    "- The per-period utility function is given by \n",
    "\\begin{equation*}\n",
    "u(x_t,i_t,\\epsilon_{1t},\\epsilon_{2t};\\theta) =\n",
    "\\begin{cases}\n",
    "    −\\theta_1 x_t − \\theta_2 x^2_t + \\epsilon_{0t},& \\text{ if } i_t = 0,\\\\\n",
    "    −\\theta_3 + \\epsilon_{1t},& \\text{ if } i_t = 1,\n",
    "\\end{cases}\n",
    "\\end{equation*}\n",
    "where $(\\epsilon_{0t}, \\epsilon_{1t})$ ~ iid type 1 extreme value.\n",
    "- Assume that the decision-maker's discount factor is known, $\\beta = 0.95$.\n",
    "- The number of observations is $N = 1000$.\n",
    "- The true parameters are: $\\theta_1 = 0.5$, $\\theta_2 = 0.1$, $\\theta_3 = 1$, and $\\lambda = 0.82$.\n",
    "- Hint: All busses are assumed to be operated and maintained independently.\n"
   ]
  },
  {
   "cell_type": "code",
   "execution_count": null,
   "metadata": {},
   "outputs": [],
   "source": [
    "# Import custom functions from python files. For example, I define and use these functions in separate files:\n",
    "from generate_data import simulate_data\n",
    "from dynamicprogramming import bellman\n",
    "from estimation import rust_llf"
   ]
  },
  {
   "cell_type": "code",
   "execution_count": null,
   "metadata": {},
   "outputs": [],
   "source": [
    "seed = 100"
   ]
  },
  {
   "cell_type": "markdown",
   "metadata": {},
   "source": [
    "Set parameters."
   ]
  },
  {
   "cell_type": "code",
   "execution_count": null,
   "metadata": {},
   "outputs": [],
   "source": []
  },
  {
   "cell_type": "markdown",
   "metadata": {},
   "source": [
    "## Problem 1. Simulate data.\n",
    "\n",
    "Solve dynamic programming problem to obtain replacement probabilities for each mileage state."
   ]
  },
  {
   "cell_type": "code",
   "execution_count": null,
   "metadata": {},
   "outputs": [],
   "source": []
  },
  {
   "cell_type": "markdown",
   "metadata": {},
   "source": [
    "Simulate data."
   ]
  },
  {
   "cell_type": "code",
   "execution_count": null,
   "metadata": {},
   "outputs": [],
   "source": []
  },
  {
   "cell_type": "markdown",
   "metadata": {},
   "source": [
    "## Problem 2. Estimate the model using the simulated data.\n",
    "\n",
    "Estimate and report transition probability λ in a first step. This does not require any nonlinear optimization."
   ]
  },
  {
   "cell_type": "code",
   "execution_count": null,
   "metadata": {},
   "outputs": [],
   "source": []
  },
  {
   "cell_type": "markdown",
   "metadata": {},
   "source": [
    "Set parameters for ML estimation."
   ]
  },
  {
   "cell_type": "code",
   "execution_count": null,
   "metadata": {},
   "outputs": [],
   "source": [
    "\n"
   ]
  },
  {
   "cell_type": "markdown",
   "metadata": {},
   "source": [
    "Report the parameters of the model estimated using MLE with a nested fixed point algorithm:\n",
    "\n",
    "1. Guess initial parameter values.\n",
    "\n",
    "2. Solve dynamic programming problem.\n",
    "3. Calculate the probability of replacement at each state.\n",
    "4. Use model predictions (the probability calculated in the previous step) and data to compute the log-likelihood function.\n",
    "5. Search over parameter values by repeating steps 2 − 4.\n",
    "\n",
    "The objective function can be minimized using *scipy.optimize.minimize*."
   ]
  },
  {
   "cell_type": "code",
   "execution_count": null,
   "metadata": {},
   "outputs": [],
   "source": []
  },
  {
   "cell_type": "markdown",
   "metadata": {},
   "source": [
    "Report the estimated parameters and the probability of replacement for every state: $P (1|x_t, \\theta)$."
   ]
  },
  {
   "cell_type": "code",
   "execution_count": null,
   "metadata": {},
   "outputs": [],
   "source": []
  }
 ],
 "metadata": {
  "kernelspec": {
   "display_name": "aae_blp",
   "language": "python",
   "name": "python3"
  },
  "language_info": {
   "codemirror_mode": {
    "name": "ipython",
    "version": 3
   },
   "file_extension": ".py",
   "mimetype": "text/x-python",
   "name": "python",
   "nbconvert_exporter": "python",
   "pygments_lexer": "ipython3",
   "version": "3.12.0"
  }
 },
 "nbformat": 4,
 "nbformat_minor": 2
}
