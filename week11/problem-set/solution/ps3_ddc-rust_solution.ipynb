{
 "cells": [
  {
   "cell_type": "code",
   "execution_count": 1,
   "metadata": {},
   "outputs": [],
   "source": [
    "%load_ext autoreload\n",
    "%autoreload 2\n",
    "\n",
    "import numpy as np\n",
    "import scipy.optimize as opt\n",
    "from functools import partial"
   ]
  },
  {
   "cell_type": "markdown",
   "metadata": {},
   "source": [
    "# Structural Econometrics in Labor and IO.\n",
    "\n",
    "# Problem Set: Dynamic Discrete Choice Estimation.\n",
    "\n",
    "  \n",
    "## Description\n",
    "\n",
    "Superintendent Harry Zurcher manages the bus fleet at the Madison Metropolitan Bus Com- pany. Notably, at every point in time t, he decides whether to replace an old bus engine with a new one or to keep operating the old one.\n",
    "We are interested in estimating the cost of engine maintenance and replacement, using observed data on: \n",
    "\n",
    "1. mileage $x_t$ at period $t$, \n",
    "2. observed replacement decision $i_t$ at period $t$, and\n",
    "3. mileage $x_t+1$ next period.\n",
    "\n",
    "#### The data generating process is as follows:\n",
    "\n",
    "- $x_t$ can take on 11 values, $x_t \\in \\{0, 1, 2, . . . , 10\\}$ (i.e. mileage discretized into 11 categories).\n",
    "\n",
    "- At any time period, \n",
    "\\begin{equation*}\n",
    "x_{t+1} =\n",
    "\\begin{cases}\n",
    "    \\min\\{x_t+1, \\ 10\\},& \\text{ with probability } \\lambda, \\\\\n",
    "    x_t,& \\text{ with probability } 1-\\lambda.\n",
    "\\end{cases}\n",
    "\\end{equation*}\n",
    "Note that $\\lambda$ does not depend on the replacement decision $i_t$.\n",
    "- The agent’s replacement decision is made at the beginning of each period and is effective immediately (i.e. if $i_t = 1$, the agent uses machine with mileage $0$ and the next period state $x_t+1$ is $1$ with probability $\\lambda$ and $0$ with probability $1 − \\lambda$).\n",
    "- The per-period maintenance cost for a bus with mileage $x$ is $C(x, \\theta) = \\theta_1 x + \\theta_2 x^2$.\n",
    "- The cost of replacement is $\\theta_3$.\n",
    "- The per-period utility function is given by \n",
    "\\begin{equation*}\n",
    "u(x_t,i_t,\\epsilon_{1t},\\epsilon_{2t};\\theta) =\n",
    "\\begin{cases}\n",
    "    −\\theta_1 x_t − \\theta_2 x^2_t + \\epsilon_{0t},& \\text{ if } i_t = 0,\\\\\n",
    "    −\\theta_3 + \\epsilon_{1t},& \\text{ if } i_t = 1,\n",
    "\\end{cases}\n",
    "\\end{equation*}\n",
    "where $(\\epsilon_{0t}, \\epsilon_{1t})$ ~ iid type 1 extreme value.\n",
    "- Assume that the decision-maker's discount factor is known, $\\beta = 0.95$.\n",
    "- The number of observations is $N = 1000$.\n",
    "- The true parameters are: $\\theta_1 = 0.5$, $\\theta_2 = 0.04$, $\\theta_3 = 2$, and $\\lambda = 0.82$.\n",
    "- Hint: All busses are assumed to be operated and maintained independently.\n"
   ]
  },
  {
   "cell_type": "code",
   "execution_count": 2,
   "metadata": {},
   "outputs": [],
   "source": [
    "# Import custom functions from python files\n",
    "from generate_data import simulate_data\n",
    "from dynamicprogramming import bellman1, bellman2\n",
    "from estimation import rust_llf"
   ]
  },
  {
   "cell_type": "code",
   "execution_count": 3,
   "metadata": {},
   "outputs": [],
   "source": [
    "seed = 100"
   ]
  },
  {
   "cell_type": "markdown",
   "metadata": {},
   "source": [
    "Set parameters."
   ]
  },
  {
   "cell_type": "code",
   "execution_count": 4,
   "metadata": {},
   "outputs": [],
   "source": [
    "# number of observations\n",
    "num_observations = 1000\n",
    "# number of states\n",
    "num_states = 11\n",
    "# make vector of states\n",
    "x = np.arange(0, num_states)\n",
    "\n",
    "# set cost function parameters\n",
    "theta = np.array([0.5, 0.04, 2])\n",
    "\n",
    "params = {\n",
    "    \"beta\": 0.95,\n",
    "    \"lambda\": 0.82,\n",
    "    \"euler\": 0.57721,\n",
    "    \"states\": num_states,\n",
    "    \"x\": x,\n",
    "    \"bellman_emax\": 1,\n",
    "    \"threshold\": 1e-12,\n",
    "}"
   ]
  },
  {
   "cell_type": "markdown",
   "metadata": {},
   "source": [
    "## Problem 1. Simulate data.\n",
    "\n",
    "Solve dynamic programming problem to obtain replacement probabilities for each mileage state."
   ]
  },
  {
   "cell_type": "code",
   "execution_count": 5,
   "metadata": {},
   "outputs": [
    {
     "name": "stdout",
     "output_type": "stream",
     "text": [
      "[[ -0.89603232  -2.89603232]\n",
      " [ -2.03912172  -2.89603232]\n",
      " [ -3.01029265  -2.89603232]\n",
      " [ -3.89832589  -2.89603232]\n",
      " [ -4.77152396  -2.89603232]\n",
      " [ -5.67421353  -2.89603232]\n",
      " [ -6.6322285   -2.89603232]\n",
      " [ -7.65922195  -2.89603232]\n",
      " [ -8.76171932  -2.89603232]\n",
      " [ -9.94254013  -2.89603232]\n",
      " [-11.2026467   -2.89603232]]\n"
     ]
    }
   ],
   "source": [
    "if params[\"bellman_emax\"]:\n",
    "    EV,V01,numiter = bellman1(\n",
    "        theta,\n",
    "        params,\n",
    ")\n",
    "else:\n",
    "    EV,V01,numiter = bellman2(\n",
    "    theta,\n",
    "    params,\n",
    ")\n",
    "\n",
    "print(V01)"
   ]
  },
  {
   "cell_type": "markdown",
   "metadata": {},
   "source": [
    "Simulate data for $N = 1000$ observations."
   ]
  },
  {
   "cell_type": "code",
   "execution_count": 6,
   "metadata": {},
   "outputs": [
    {
     "data": {
      "text/html": [
       "<div>\n",
       "<style scoped>\n",
       "    .dataframe tbody tr th:only-of-type {\n",
       "        vertical-align: middle;\n",
       "    }\n",
       "\n",
       "    .dataframe tbody tr th {\n",
       "        vertical-align: top;\n",
       "    }\n",
       "\n",
       "    .dataframe thead th {\n",
       "        text-align: right;\n",
       "    }\n",
       "</style>\n",
       "<table border=\"1\" class=\"dataframe\">\n",
       "  <thead>\n",
       "    <tr style=\"text-align: right;\">\n",
       "      <th></th>\n",
       "      <th>xt</th>\n",
       "      <th>xt1</th>\n",
       "      <th>d</th>\n",
       "    </tr>\n",
       "  </thead>\n",
       "  <tbody>\n",
       "    <tr>\n",
       "      <th>0</th>\n",
       "      <td>0</td>\n",
       "      <td>1</td>\n",
       "      <td>0</td>\n",
       "    </tr>\n",
       "    <tr>\n",
       "      <th>1</th>\n",
       "      <td>1</td>\n",
       "      <td>1</td>\n",
       "      <td>1</td>\n",
       "    </tr>\n",
       "    <tr>\n",
       "      <th>2</th>\n",
       "      <td>1</td>\n",
       "      <td>2</td>\n",
       "      <td>0</td>\n",
       "    </tr>\n",
       "    <tr>\n",
       "      <th>3</th>\n",
       "      <td>2</td>\n",
       "      <td>0</td>\n",
       "      <td>1</td>\n",
       "    </tr>\n",
       "    <tr>\n",
       "      <th>4</th>\n",
       "      <td>0</td>\n",
       "      <td>1</td>\n",
       "      <td>1</td>\n",
       "    </tr>\n",
       "    <tr>\n",
       "      <th>...</th>\n",
       "      <td>...</td>\n",
       "      <td>...</td>\n",
       "      <td>...</td>\n",
       "    </tr>\n",
       "    <tr>\n",
       "      <th>995</th>\n",
       "      <td>1</td>\n",
       "      <td>2</td>\n",
       "      <td>0</td>\n",
       "    </tr>\n",
       "    <tr>\n",
       "      <th>996</th>\n",
       "      <td>2</td>\n",
       "      <td>3</td>\n",
       "      <td>0</td>\n",
       "    </tr>\n",
       "    <tr>\n",
       "      <th>997</th>\n",
       "      <td>3</td>\n",
       "      <td>1</td>\n",
       "      <td>1</td>\n",
       "    </tr>\n",
       "    <tr>\n",
       "      <th>998</th>\n",
       "      <td>1</td>\n",
       "      <td>2</td>\n",
       "      <td>0</td>\n",
       "    </tr>\n",
       "    <tr>\n",
       "      <th>999</th>\n",
       "      <td>2</td>\n",
       "      <td>1</td>\n",
       "      <td>1</td>\n",
       "    </tr>\n",
       "  </tbody>\n",
       "</table>\n",
       "<p>1000 rows × 3 columns</p>\n",
       "</div>"
      ],
      "text/plain": [
       "     xt  xt1  d\n",
       "0     0    1  0\n",
       "1     1    1  1\n",
       "2     1    2  0\n",
       "3     2    0  1\n",
       "4     0    1  1\n",
       "..   ..  ... ..\n",
       "995   1    2  0\n",
       "996   2    3  0\n",
       "997   3    1  1\n",
       "998   1    2  0\n",
       "999   2    1  1\n",
       "\n",
       "[1000 rows x 3 columns]"
      ]
     },
     "execution_count": 6,
     "metadata": {},
     "output_type": "execute_result"
    }
   ],
   "source": [
    "df = simulate_data(\n",
    "    theta=theta, params=params, num_observations=num_observations, seed=seed\n",
    ")\n",
    "df"
   ]
  },
  {
   "cell_type": "markdown",
   "metadata": {},
   "source": [
    "## Problem 2. Estimate the model using the simulated data."
   ]
  },
  {
   "cell_type": "markdown",
   "metadata": {},
   "source": [
    "Estimate and report transition probability λ in a first step. This does not require any nonlinear optimization."
   ]
  },
  {
   "cell_type": "code",
   "execution_count": 7,
   "metadata": {},
   "outputs": [
    {
     "name": "stdout",
     "output_type": "stream",
     "text": [
      "The estimate of lambda is: 0.827\n"
     ]
    }
   ],
   "source": [
    "# Estimating lambda - transition probabilities\n",
    "# Frequency of x_t = x_t+1 = 10\n",
    "numbound = np.sum((df[\"xt\"] == 10) & (df[\"xt1\"] == 10))\n",
    "# Mileage up with d=0\n",
    "numup_d0 = np.sum((df[\"d\"] == 0) & (df[\"xt1\"] - df[\"xt\"] == 1))\n",
    "# Mileage up with d=1\n",
    "numup_d1 = np.sum((df[\"d\"] == 1) & (df[\"xt1\"] == 1))\n",
    "\n",
    "# numbound=0; # If forgotten to account for boundary state\n",
    "# Transition prob, net of boundary states\n",
    "lmd = (numup_d0 + numup_d1) / (num_observations - numbound)\n",
    "\n",
    "print(\"The estimate of lambda is: %3.3f\" % lmd)"
   ]
  },
  {
   "cell_type": "markdown",
   "metadata": {},
   "source": [
    "Set parameters for ML estimation."
   ]
  },
  {
   "cell_type": "code",
   "execution_count": 8,
   "metadata": {},
   "outputs": [],
   "source": [
    "est_params = {\n",
    "    \"beta\": 0.95,\n",
    "    \"lambda\": lmd,\n",
    "    \"x_start\": np.array([0.1,0.01,1.0]),\n",
    "    \"euler\": 0.57721,\n",
    "    \"states\": num_states,\n",
    "    \"x\": x,\n",
    "    \"bellman_emax\": 1,\n",
    "    \"threshold\": 1e-12,\n",
    "}"
   ]
  },
  {
   "cell_type": "markdown",
   "metadata": {},
   "source": [
    "Report the parameters of the model estimated using MLE with a nested fixed point algorithm:\n",
    "\n",
    "1. Guess initial parameter values.\n",
    "\n",
    "2. Solve dynamic programming problem.\n",
    "3. Calculate the probability of replacement at each state.\n",
    "4. Use model predictions (the probability calculated in the previous step) and data to compute the log-likelihood function.\n",
    "5. Search over parameter values by repeating steps 2 − 4.\n",
    "\n",
    "The objective function can be minimized using *scipy.optimize.minimize*."
   ]
  },
  {
   "cell_type": "code",
   "execution_count": 9,
   "metadata": {},
   "outputs": [],
   "source": [
    "# Partial in arguments, except fixed parameters\n",
    "partial_llf = partial(\n",
    "    rust_llf, \n",
    "    d=df[[\"d\"]].to_numpy(),\n",
    "    xt=df[[\"xt\"]].to_numpy(),\n",
    "    params=est_params, \n",
    ")    "
   ]
  },
  {
   "cell_type": "code",
   "execution_count": 10,
   "metadata": {},
   "outputs": [
    {
     "name": "stdout",
     "output_type": "stream",
     "text": [
      "result.success = True\n",
      "CONVERGENCE: NORM_OF_PROJECTED_GRADIENT_<=_PGTOL\n",
      "Number of MLE iterations: 19\n"
     ]
    }
   ],
   "source": [
    "# Minimize the function\n",
    "result = opt.minimize(\n",
    "    fun=partial_llf, x0=est_params[\"x_start\"], method=\"L-BFGS-B\"\n",
    ")\n",
    "print(f'{result.success = }')\n",
    "print(result.message)\n",
    "print(\"Number of MLE iterations: %2.0f\" % result.nit)"
   ]
  },
  {
   "cell_type": "markdown",
   "metadata": {},
   "source": [
    "Report the estimated parameters and the probability of replacement for every state: $P (1|x_t, \\theta)$."
   ]
  },
  {
   "cell_type": "code",
   "execution_count": 11,
   "metadata": {},
   "outputs": [
    {
     "name": "stdout",
     "output_type": "stream",
     "text": [
      "Est. parameters: 0.364 0.083 1.994\n",
      "True parameters: 0.500 0.040 2.000\n",
      " \n",
      "Choice-specific value function:\n",
      "[[ -0.07900218  -2.07316209]\n",
      " [ -1.14050909  -2.07316209]\n",
      " [ -2.13662307  -2.07316209]\n",
      " [ -3.1199416   -2.07316209]\n",
      " [ -4.15770059  -2.07316209]\n",
      " [ -5.30468086  -2.07316209]\n",
      " [ -6.5941457   -2.07316209]\n",
      " [ -8.04172817  -2.07316209]\n",
      " [ -9.65325021  -2.07316209]\n",
      " [-11.43046578  -2.07316209]\n",
      " [-13.37380054  -2.07316209]]\n",
      " \n",
      "Conditional choice probabilities:\n",
      "[[0.11981746]\n",
      " [0.28238679]\n",
      " [0.51585992]\n",
      " [0.740156  ]\n",
      " [0.88939129]\n",
      " [0.96200331]\n",
      " [0.98923875]\n",
      " [0.99744862]\n",
      " [0.99948974]\n",
      " [0.99991367]\n",
      " [0.99998764]]\n"
     ]
    }
   ],
   "source": [
    "print(\"Est. parameters: %3.3f\" % result.x[0], \"%3.3f\" % result.x[1], \"%3.3f\" % result.x[2])\n",
    "print(\"True parameters: %3.3f\" % theta[0], \"%3.3f\" % theta[1], \"%3.3f\" % theta[2])\n",
    "\n",
    "if est_params[\"bellman_emax\"]:\n",
    "    EV,V01,numiter = bellman1(\n",
    "        result.x,\n",
    "        est_params,\n",
    ")\n",
    "else:\n",
    "    EV,V01,numiter = bellman2(\n",
    "    result.x,\n",
    "    est_params,\n",
    ")\n",
    "\n",
    "prd1 = np.exp(V01[x, 1]) / (np.exp(V01[x, 0]) + np.exp(V01[x, 1]))\n",
    "\n",
    "print(\" \")\n",
    "print(\"Choice-specific value function:\")\n",
    "print(V01)\n",
    "print(\" \")\n",
    "print(\"Conditional choice probabilities:\")\n",
    "print(prd1.reshape(num_states, 1))"
   ]
  }
 ],
 "metadata": {
  "kernelspec": {
   "display_name": "aae_blp",
   "language": "python",
   "name": "python3"
  },
  "language_info": {
   "codemirror_mode": {
    "name": "ipython",
    "version": 3
   },
   "file_extension": ".py",
   "mimetype": "text/x-python",
   "name": "python",
   "nbconvert_exporter": "python",
   "pygments_lexer": "ipython3",
   "version": "3.12.0"
  }
 },
 "nbformat": 4,
 "nbformat_minor": 2
}
