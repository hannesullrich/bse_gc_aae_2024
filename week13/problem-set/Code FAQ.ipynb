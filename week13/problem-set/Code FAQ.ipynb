{
 "cells": [
  {
   "cell_type": "markdown",
   "id": "a9654e9b-d70c-47bc-ba43-0152ab71c067",
   "metadata": {},
   "source": [
    "## Multidimensional integration - Monte Carlo:\n",
    "\n",
    "Let's assume we have a multidimensional (3) normal, you want to integrate a function over:"
   ]
  },
  {
   "cell_type": "code",
   "execution_count": 1,
   "id": "a22a33f3-ab86-435f-b28f-d74996c73631",
   "metadata": {},
   "outputs": [],
   "source": [
    "import numpy as np"
   ]
  },
  {
   "cell_type": "code",
   "execution_count": 2,
   "id": "6ed19359-e3f8-4222-ad2c-60be98935b85",
   "metadata": {},
   "outputs": [],
   "source": [
    "def max_func(random_var_1, random_var_2, random_var_3):\n",
    "    return np.maximum(np.maximum(random_var_1, random_var_2), random_var_3)"
   ]
  },
  {
   "cell_type": "code",
   "execution_count": 3,
   "id": "1916f048-06f0-4ef8-b096-bf4cd93e4645",
   "metadata": {},
   "outputs": [],
   "source": [
    "# Always start with fewer draws. You can scale up later.\n",
    "num_draws = 100\n",
    "\n",
    "# Define mean and covariance\n",
    "mean = np.array([0, 0, 0])\n",
    "cov = np.identity(3)\n",
    "\n",
    "# Generate draws\n",
    "draws = np.random.multivariate_normal(\n",
    "    mean, cov, size=num_draws\n",
    ")"
   ]
  },
  {
   "cell_type": "code",
   "execution_count": 4,
   "id": "a346786a-b481-418b-8295-ac6bd0cd07b5",
   "metadata": {},
   "outputs": [
    {
     "data": {
      "text/plain": [
       "array([0.02439226, 0.0283845 , 0.00976387])"
      ]
     },
     "execution_count": 4,
     "metadata": {},
     "output_type": "execute_result"
    }
   ],
   "source": [
    "# Do the draws have the intended mean and scale? \n",
    "# We could do a graph with num_draws on x and mean/scale on y and see when it converges.\n",
    "draws.mean(axis=0)"
   ]
  },
  {
   "cell_type": "code",
   "execution_count": 5,
   "id": "d0efbe78-be7f-4581-8e15-359f01ace78f",
   "metadata": {},
   "outputs": [
    {
     "data": {
      "text/plain": [
       "np.float64(0.8750889759297524)"
      ]
     },
     "execution_count": 5,
     "metadata": {},
     "output_type": "execute_result"
    }
   ],
   "source": [
    "max_vals = []\n",
    "\n",
    "for i in range(num_draws):\n",
    "    draw = draws[i, :]\n",
    "    max_val = max_func(draw[0], draw[1], draw[2])\n",
    "    max_vals += [max_val]\n",
    "\n",
    "# Calculate the expectation by averaging (each draw has an equal weight).\n",
    "# Did we have enough draws? Again, we could do a graph.\n",
    "np.array(max_vals).mean()"
   ]
  }
 ],
 "metadata": {
  "kernelspec": {
   "display_name": "Python 3 (ipykernel)",
   "language": "python",
   "name": "python3"
  },
  "language_info": {
   "codemirror_mode": {
    "name": "ipython",
    "version": 3
   },
   "file_extension": ".py",
   "mimetype": "text/x-python",
   "name": "python",
   "nbconvert_exporter": "python",
   "pygments_lexer": "ipython3",
   "version": "3.12.4"
  }
 },
 "nbformat": 4,
 "nbformat_minor": 5
}
