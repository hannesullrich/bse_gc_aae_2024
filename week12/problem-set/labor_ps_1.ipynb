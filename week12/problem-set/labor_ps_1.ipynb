{
 "cells": [
  {
   "cell_type": "code",
   "execution_count": 1,
   "id": "930982a4",
   "metadata": {},
   "outputs": [],
   "source": [
    "import numpy as np\n",
    "import pandas as pd"
   ]
  },
  {
   "cell_type": "markdown",
   "id": "9fc6631a",
   "metadata": {},
   "source": [
    "# Advanced Applied Econometrics\n",
    "\n",
    "\n",
    "# Labor Problem Set 1"
   ]
  },
  {
   "cell_type": "markdown",
   "id": "03deee19",
   "metadata": {},
   "source": [
    "In order to understand the principle of solving finite horizon models like the one in KW97 via backward induction, this problem set requires you to solve a simple one-person, three-period decision problem.\n",
    "\n",
    "Robinson has to ensure his survival for the next 3 days. He has to work the land in order to produce food. Each day he can choose to work for 8, 12, or 16 hours. He can enjoy the remaining part of the day, such that his leisure time is given by $l_t = 24 - h_t$, where $h_t$ denotes his choice of hours of work.\n",
    "\n",
    "On Day 1 Robinson is completely unskilled and no matter how many hours he works, he gets 1 unit of produce. Working more  than 8 hours a day allows Robinson to learn how to take better care of the crops, such that he is able to produce more. In particular, for every additional 4 hours of work on either day Robinson levels up his farming skills by 1 unit. E.g., if Robinson works for 16 hours on Day 1, his skills/experience on Day 2 will be 2; if Robinson then also works 12 hours on Day 2, his skills/experience on Day 3 would be 3.  Produce $c_t$ is a function of experience $e_t$:\n",
    "\n",
    "\\begin{equation}\n",
    "c_t = {(1+ 0.25e_t)}^2\n",
    "\\tag{1}\n",
    "\\end{equation}\n",
    "\n",
    "Robinson gains utility from consumption and leisure:\n",
    "\n",
    "\\begin{equation}\n",
    "u(c_t; l_t) = {c_t}^\\alpha {l_t}^\\beta\n",
    "\\tag{2}\n",
    "\\end{equation}\n",
    "\n",
    "with $ \\alpha = \\beta  = 0.5 $"
   ]
  },
  {
   "cell_type": "markdown",
   "id": "94b3da92",
   "metadata": {},
   "source": [
    "## Questions A:\n",
    "\n",
    "1. If Robinson had to survive only for 1 day, how many hours would he work?\n",
    "How much utility would he get? What incentive does Robinson have to make a different choice on Day 1 if he has to survive for 3 days?\n",
    "\n",
    "2. Is Robinson risk averse?\n",
    "\n",
    "3. Are consumption and leisure substitutes for Robinson?\n",
    "\n",
    "4. What are the state variables of the model? How many states are there? Write down a state space representation as a matrix with dimensions *number of states* by *number of state variables*.\n",
    "\n",
    "5. In dynamic programming problems like this one, the agent makes choices based on the choice specific value functions. These are given by the flow utility plus the continuation value. Assume that continuation values on the last day are zero. What would be optimal number of hours of work for Robinson on Day 3?\n",
    "\n",
    "6. Note that the flow utilities you calculated in order to arrive to the previous answer are the Day 2 continuation values. What would be optimal numbers of hours to work for Robinson on Day 2? And Day 1?"
   ]
  },
  {
   "cell_type": "code",
   "execution_count": null,
   "id": "b2064dd4",
   "metadata": {},
   "outputs": [],
   "source": []
  },
  {
   "cell_type": "markdown",
   "id": "c90b9ecd",
   "metadata": {},
   "source": [
    "## Question B:\n",
    "\n",
    "Solve and simulate the model:\n",
    "\n",
    "- you have found the solution of the model when you have calculated the choice specific value functions at each state\n",
    "- your simulation output should be a matrix or a matrix-like object with columns \"Day\", Choice\", and \"Choice Specific Value Function\"\n",
    "- *your program is general and scalable if you can use the exact same code in order to solve Robinson's survival problem for 30 days (instead of 3)*."
   ]
  },
  {
   "cell_type": "code",
   "execution_count": null,
   "id": "8bbd71e2",
   "metadata": {},
   "outputs": [],
   "source": []
  }
 ],
 "metadata": {
  "kernelspec": {
   "display_name": "Python 3 (ipykernel)",
   "language": "python",
   "name": "python3"
  },
  "language_info": {
   "codemirror_mode": {
    "name": "ipython",
    "version": 3
   },
   "file_extension": ".py",
   "mimetype": "text/x-python",
   "name": "python",
   "nbconvert_exporter": "python",
   "pygments_lexer": "ipython3",
   "version": "3.12.3"
  }
 },
 "nbformat": 4,
 "nbformat_minor": 5
}
