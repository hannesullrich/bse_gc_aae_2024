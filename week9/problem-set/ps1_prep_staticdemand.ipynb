{
 "cells": [
  {
   "cell_type": "code",
   "execution_count": 1,
   "id": "6d9bf747",
   "metadata": {
    "ExecuteTime": {
     "end_time": "2023-06-15T17:33:57.618576363Z",
     "start_time": "2023-06-15T17:33:55.577330926Z"
    }
   },
   "outputs": [],
   "source": [
    "import numpy as np\n",
    "from functools import partial\n",
    "from scipy.optimize import root"
   ]
  },
  {
   "attachments": {},
   "cell_type": "markdown",
   "id": "4bdc20b7",
   "metadata": {},
   "source": [
    "\n",
    "# Advanced Applied Econometrics: static discrete choice with market-level data.\n",
    "\n",
    "# Problem Set: Preliminaries\n",
    "\n",
    "The aim of this problem set is to refresh (or make you familiar with) some basic concepts -- notably GMM estimation, numerically solving systems of nonlinear equations, and the intuition for a contraction mapping - that will be essential in subsequent sessions and problem sets (and in large parts of the literature).\n",
    "\n",
    "Main reference: Berry, Steven T. (1994), \"Estimating Discrete Choice Models of Product Differentiation,\" *Rand Journal of Economics*, 25 (2), 242-262."
   ]
  },
  {
   "attachments": {},
   "cell_type": "markdown",
   "id": "79544360",
   "metadata": {},
   "source": [
    "## Problems\n",
    "\n",
    "\n",
    "### 1. A simple demand estimation example.\n",
    "\n",
    "We assume consumer $i$ chooses one unit of product $j\\in J$ or an outside good (e.g. no purchase) to obtain utility \n",
    "\n",
    "\\begin{equation}\n",
    "u_{ijt} = x_{jt}\\beta + \\alpha p_{jt} + \\xi_{jt} + \\varepsilon_{ijt} = \\delta_{jt} + \\varepsilon_{ijt}\n",
    "\\tag{1}\n",
    "\\end{equation} \n",
    "\n",
    "\n",
    "where $(x_{jt},p_{jt})$ are observable characteristics and price, $\\xi_{jt}$ is an unobservable characteristic, and an idiosyncratic error term $\\varepsilon_{ijt}$ assumed i.i.d. extreme value type 1. The utility of the outside good is normalized such that $\\delta_{0t}=0$. The assumption of utility-maximizing consumers and the distribution of $\\varepsilon_{ijt}$ yields the logit choice probabilities:\n",
    "\n",
    "\n",
    "\\begin{equation}\n",
    "s_{jt}(\\delta_t) = \\frac{\\exp(\\delta_{jt})}{1+\\sum_{l=1}^J \\exp(\\delta_{lt})}.\n",
    "\\tag{2}\n",
    "\\end{equation}\n",
    "\n",
    "\n",
    "\n",
    "##### a) Simulate product-level data based on the described model assuming the following:\n",
    "\n",
    "- $J=10$ products are sold in $T=25$ markets (size $L_t=1$) by single-product firms.\n",
    "- Two observable product characteristics $x_{jt}=(1,x_{jt}^1)$, with $x_{jt}^1 \\sim U(1,2)$.\n",
    "- Marginal cost $c_{jt}=x_{jt}\\gamma_1 + w_{jt}\\gamma_2 + \\omega_{jt}$.\n",
    "- Three observable cost shifters $w_{jt}=(w_{jt}^1,w_{jt}^2,w_{jt}^3)$, all i.i.d. $U(0,1)$.\n",
    "- Marginal cost parameters: $\\gamma_1=(0.7,0.7)$ and $\\gamma_2=(1,1,1)$.\n",
    "- Unobserved demand and cost characteristic $(\\xi_{jt},\\omega_{jt}) \\sim N(0,\\sigma_c)$ with $\\sigma_c = \\left[\n",
    "\\begin{array}{cc}\n",
    "1 & 0.7 \\\\\n",
    "0.7 & 1 \\\\\n",
    "\\end{array}\\right]$.\n",
    "- Assume perfect competition on price so that $p_{jt}=c_{jt}$.\n",
    "- Preference parameters $\\beta=(2,2), \\alpha=-2$."
   ]
  },
  {
   "attachments": {},
   "cell_type": "markdown",
   "id": "68d9a3ef",
   "metadata": {},
   "source": [
    "#### Set seed for reproducibility:"
   ]
  },
  {
   "cell_type": "code",
   "execution_count": null,
   "id": "e14b5715",
   "metadata": {
    "ExecuteTime": {
     "end_time": "2023-06-15T17:33:57.629519512Z",
     "start_time": "2023-06-15T17:33:55.827704630Z"
    }
   },
   "outputs": [],
   "source": []
  },
  {
   "attachments": {},
   "cell_type": "markdown",
   "id": "35b9da13",
   "metadata": {},
   "source": [
    "#### Set market structure"
   ]
  },
  {
   "cell_type": "code",
   "execution_count": null,
   "id": "b1784f72",
   "metadata": {
    "ExecuteTime": {
     "end_time": "2023-06-15T17:33:57.692595134Z",
     "start_time": "2023-06-15T17:33:55.907095707Z"
    }
   },
   "outputs": [],
   "source": []
  },
  {
   "attachments": {},
   "cell_type": "markdown",
   "id": "d816a6a2",
   "metadata": {},
   "source": [
    "#### Create observed characteristic and cost shifters"
   ]
  },
  {
   "cell_type": "code",
   "execution_count": null,
   "id": "45e99fd4",
   "metadata": {
    "ExecuteTime": {
     "end_time": "2023-06-15T17:33:57.765973195Z",
     "start_time": "2023-06-15T17:33:55.987416611Z"
    }
   },
   "outputs": [],
   "source": []
  },
  {
   "attachments": {},
   "cell_type": "markdown",
   "id": "a8068509",
   "metadata": {},
   "source": [
    "#### Create unobserved characteristics"
   ]
  },
  {
   "cell_type": "code",
   "execution_count": null,
   "id": "2fb17f22",
   "metadata": {
    "ExecuteTime": {
     "end_time": "2023-06-15T17:33:57.778243620Z",
     "start_time": "2023-06-15T17:33:56.063670217Z"
    }
   },
   "outputs": [],
   "source": []
  },
  {
   "attachments": {},
   "cell_type": "markdown",
   "id": "50846cae",
   "metadata": {},
   "source": [
    "#### Assume true parameters"
   ]
  },
  {
   "cell_type": "code",
   "execution_count": null,
   "id": "e45d6018",
   "metadata": {
    "ExecuteTime": {
     "end_time": "2023-06-15T17:33:57.838212833Z",
     "start_time": "2023-06-15T17:33:56.143683357Z"
    }
   },
   "outputs": [],
   "source": []
  },
  {
   "attachments": {},
   "cell_type": "markdown",
   "id": "0ee0c598",
   "metadata": {},
   "source": [
    "### Calculate prices, mean utility and shares\n",
    "\n",
    "To simulate the data, you must code a function computing a $(T\\times J)\\times 1$ vector containing market shares using equation (2)."
   ]
  },
  {
   "cell_type": "code",
   "execution_count": null,
   "id": "5d96d162",
   "metadata": {
    "ExecuteTime": {
     "end_time": "2023-06-15T17:33:57.990783667Z",
     "start_time": "2023-06-15T17:33:56.248164611Z"
    }
   },
   "outputs": [],
   "source": []
  },
  {
   "attachments": {},
   "cell_type": "markdown",
   "id": "04649fb2",
   "metadata": {},
   "source": [
    "##### b) The simulated data at hand, forget parameter values and, following Berry (1994),\n",
    "\n",
    "- Estimate $\\{\\alpha,\\beta\\}$ using OLS and report the results."
   ]
  },
  {
   "cell_type": "code",
   "execution_count": null,
   "id": "343da6e9",
   "metadata": {},
   "outputs": [],
   "source": []
  },
  {
   "attachments": {},
   "cell_type": "markdown",
   "id": "66b6d6cd",
   "metadata": {},
   "source": [
    "- Estimate $\\{\\alpha,\\beta\\}$ by GMM using as instrumental variables the observable characteristics $x_{jt}$ and cost shifters $w_{jt}$, and report the results. \n",
    "\n",
    "First, write the estimation function:"
   ]
  },
  {
   "cell_type": "code",
   "execution_count": null,
   "id": "1537847f",
   "metadata": {},
   "outputs": [],
   "source": []
  },
  {
   "attachments": {},
   "cell_type": "markdown",
   "id": "69200828",
   "metadata": {},
   "source": [
    "Estimate the model."
   ]
  },
  {
   "cell_type": "code",
   "execution_count": null,
   "id": "cb6bbdeb",
   "metadata": {},
   "outputs": [],
   "source": []
  },
  {
   "cell_type": "code",
   "execution_count": null,
   "id": "f4939c32",
   "metadata": {},
   "outputs": [],
   "source": []
  },
  {
   "attachments": {},
   "cell_type": "markdown",
   "id": "1025dfaa",
   "metadata": {},
   "source": [
    "### 2. Solving for a static industry equilibrium. \n",
    "\n",
    "Now consider an imperfectly competitive industry, that is $p_{jt} \\neq c_{jt}$. Take the market share equation, cost and demand parameters from above as given. Assume that single-product firms j maximize profits given by\n",
    "\n",
    "\\begin{equation}\n",
    "\\pi_{jt} = (p_{jt} - c_{jt})s_{jt}L_{t},\n",
    "\\tag{3}\n",
    "\\end{equation}\n",
    "\n",
    "where $c_{jt}$ are marginal cost and $L_{t}$ market size, so that the system of first-order conditions for a Nash equilibrium:\n",
    "    \n",
    "\\begin{equation}\n",
    "s_{jt} + (p_{jt} - c_{jt})\\frac{\\partial s_{jt}}{\\partial p_{jt}} = 0\n",
    "\\tag{4}\n",
    "\\end{equation}\n",
    "\n",
    "With multi-product firms, it is useful to write expression (4) in vector notation as $s_t+\\Delta_t(p_t-c_t)=0,$ where $\\Delta_t(j,k)$ denotes a diagonal matrix of own-price derivatives and off-diagonal elements according to market structure. With single-product firms, off-diagonal elements are equal to zero so that $\\Delta_t$ can be collapsed to a vector. If marginal cost are known, we obtain the supply side by solving the system for $c_t$:\n",
    "\n",
    "\\begin{equation}\n",
    "p_t+\\Delta_t^{-1}s_t = c_t\n",
    "\\tag{5}\n",
    "\\end{equation}\n",
    "\n",
    "For single-product firms, $\\partial s_{jt} / \\partial p_{jt}$ is given by $\\alpha s_{jt} (1-s_{jt})$.\n",
    "\n",
    "\n",
    "##### a) Generate a $(T\\times J)\\times 1$ vector $\\Delta$ containing market share derivatives with respect to own-price."
   ]
  },
  {
   "cell_type": "code",
   "execution_count": null,
   "id": "8d2dd8b1",
   "metadata": {},
   "outputs": [],
   "source": []
  },
  {
   "attachments": {},
   "cell_type": "markdown",
   "id": "061b8c7d",
   "metadata": {},
   "source": [
    "##### b) Compute a $(T\\times J)\\times 1$ vector $p$ containing (Bertrand-Nash) equilibrium prices, using equation (5) and the root-finding function imported in the header, and report the mean, minimum, and maximum industry price."
   ]
  },
  {
   "cell_type": "code",
   "execution_count": null,
   "id": "a7cb23e0",
   "metadata": {},
   "outputs": [],
   "source": []
  },
  {
   "attachments": {},
   "cell_type": "markdown",
   "id": "330e4b98",
   "metadata": {},
   "source": [
    "### 3. Contraction Mapping.\n",
    "\n",
    "Newton's method is an important tool in nonlinear optimization. It is used to find roots of a function $f(x)$. Write a function finding the number $\\sqrt{a}$ by iterating $x_{t+1}=x_t-\\frac{f(x_t)}{f'(x_t)}$. Hint: $\\sqrt{a}$ is the positive root of $f(x)=a-x^2$.\n",
    "\n",
    "Note: by the Contraction Mapping Principle (Banach Fixed Point Theorem) this method is a contraction under the conditions that \n",
    "1) $f(x)$ has a continuous second derivative, \n",
    "2) $f'(x) \\neq 0\\ \\forall\\ x \\in \\mathbb{R}$, and \n",
    "3) a $q \\in (0,1)$ exists such that $|f(x)f''(x)| \\leq q |f'(x)|^2\\ \\forall\\ x \\in \\mathbb{R}$.\n"
   ]
  },
  {
   "cell_type": "code",
   "execution_count": null,
   "id": "218b5be8",
   "metadata": {},
   "outputs": [],
   "source": []
  }
 ],
 "metadata": {
  "kernelspec": {
   "display_name": "Python 3 (ipykernel)",
   "language": "python",
   "name": "python3"
  },
  "language_info": {
   "codemirror_mode": {
    "name": "ipython",
    "version": 3
   },
   "file_extension": ".py",
   "mimetype": "text/x-python",
   "name": "python",
   "nbconvert_exporter": "python",
   "pygments_lexer": "ipython3",
   "version": "3.11.0"
  }
 },
 "nbformat": 4,
 "nbformat_minor": 5
}
