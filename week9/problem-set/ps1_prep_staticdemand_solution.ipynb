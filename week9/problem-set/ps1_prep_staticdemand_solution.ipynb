{
 "cells": [
  {
   "cell_type": "code",
   "execution_count": null,
   "id": "6d9bf747",
   "metadata": {
    "ExecuteTime": {
     "end_time": "2023-06-15T17:33:57.618576363Z",
     "start_time": "2023-06-15T17:33:55.577330926Z"
    }
   },
   "outputs": [],
   "source": [
    "import numpy as np\n",
    "from scipy.optimize import root\n",
    "from functools import partial"
   ]
  },
  {
   "attachments": {},
   "cell_type": "markdown",
   "id": "4bdc20b7",
   "metadata": {},
   "source": [
    "\n",
    "# Advanced Applied Econometrics: static discrete choice with market-level data.\n",
    "\n",
    "# Problem Set: Preliminaries\n",
    "\n",
    "The aim of this problem set is to refresh (or make you familiar with) some basic concepts -- notably GMM estimation, numerically solving systems of nonlinear equations, and the intuition for a contraction mapping - that will be essential in subsequent sessions and problem sets (and in large parts of the literature).\n",
    "\n",
    "Berry, Steven T. (1994), \"Estimating Discrete Choice Models of Product Differentiation,\" *Rand Journal of Economics*, 25 (2), 242-262."
   ]
  },
  {
   "attachments": {},
   "cell_type": "markdown",
   "id": "79544360",
   "metadata": {},
   "source": [
    "## Problems\n",
    "\n",
    "\n",
    "### 1. A simple demand estimation example.\n",
    "\n",
    "We assume consumer $i$ chooses one unit of product $j\\in J$ or an outside good (e.g. no purchase) to obtain utility \n",
    "\n",
    "\\begin{equation}\n",
    "u_{ijt} = x_{jt}\\beta + \\alpha p_{jt} + \\xi_{jt} + \\varepsilon_{ijt} = \\delta_{jt} + \\varepsilon_{ijt}\n",
    "\\tag{1}\n",
    "\\end{equation} \n",
    "\n",
    "\n",
    "where $(x_{jt},p_{jt})$ are observable characteristics and price, $\\xi_{jt}$ is an unobservable characteristic, and an idiosyncratic error term $\\varepsilon_{ijt}$ assumed i.i.d. extreme value type 1. The utility of the outside good is normalized such that $\\delta_{0t}=0$. The assumption of utility-maximizing consumers and the distribution of $\\varepsilon_{ijt}$ yields the logit choice probabilities:\n",
    "\n",
    "\n",
    "\\begin{equation}\n",
    "s_{jt}(\\delta_t) = \\frac{\\exp(\\delta_{jt})}{1+\\sum_{l=1}^J \\exp(\\delta_{lt})}.\n",
    "\\tag{2}\n",
    "\\end{equation}\n",
    "\n",
    "\n",
    "\n",
    "##### a) Simulate product-level data based on the described model assuming the following:\n",
    "\n",
    "- $J=10$ products are sold in $T=25$ markets (size $L_t=1$) by single-product firms.\n",
    "- Two observable product characteristics $x_{jt}=(1,x_{jt}^1)$, with $x_{jt}^1 \\sim U(1,2)$.\n",
    "- Marginal cost $c_{jt}=x_{jt}\\gamma_1 + w_{jt}\\gamma_2 + \\omega_{jt}$.\n",
    "- Three observable cost shifters $w_{jt}=(w_{jt}^1,w_{jt}^2,w_{jt}^3)$, all i.i.d. $U(0,1)$.\n",
    "- Marginal cost parameters: $\\gamma_1=(0.7,0.7)$ and $\\gamma_2=(1,1,1)$.\n",
    "- Unobserved demand and cost characteristic $(\\xi_{jt},\\omega_{jt}) \\sim N(0,\\sigma_c)$ with $\\sigma_c = \\left[\n",
    "\\begin{array}{cc}\n",
    "1 & 0.7 \\\\\n",
    "0.7 & 1 \\\\\n",
    "\\end{array}\\right]$.\n",
    "- Assume perfect competition on price so that $p_{jt}=c_{jt}$.\n",
    "- Preference parameters $\\beta=(2,2), \\alpha=-2$."
   ]
  },
  {
   "attachments": {},
   "cell_type": "markdown",
   "id": "68d9a3ef",
   "metadata": {},
   "source": [
    "#### Set seed for reproducibility:"
   ]
  },
  {
   "cell_type": "code",
   "execution_count": null,
   "id": "e14b5715",
   "metadata": {
    "ExecuteTime": {
     "end_time": "2023-06-15T17:33:57.629519512Z",
     "start_time": "2023-06-15T17:33:55.827704630Z"
    }
   },
   "outputs": [],
   "source": [
    "np.random.seed(100)"
   ]
  },
  {
   "attachments": {},
   "cell_type": "markdown",
   "id": "35b9da13",
   "metadata": {},
   "source": [
    "#### Set market structure"
   ]
  },
  {
   "cell_type": "code",
   "execution_count": null,
   "id": "b1784f72",
   "metadata": {
    "ExecuteTime": {
     "end_time": "2023-06-15T17:33:57.692595134Z",
     "start_time": "2023-06-15T17:33:55.907095707Z"
    }
   },
   "outputs": [],
   "source": [
    "# number of markets, T\n",
    "num_markets = 25\n",
    "# number of brands per market, J\n",
    "num_brands = 10\n",
    "\n",
    "num_obs = num_markets * num_brands"
   ]
  },
  {
   "attachments": {},
   "cell_type": "markdown",
   "id": "d816a6a2",
   "metadata": {},
   "source": [
    "#### Create observed characteristic and shifters"
   ]
  },
  {
   "cell_type": "code",
   "execution_count": null,
   "id": "45e99fd4",
   "metadata": {
    "ExecuteTime": {
     "end_time": "2023-06-15T17:33:57.765973195Z",
     "start_time": "2023-06-15T17:33:55.987416611Z"
    }
   },
   "outputs": [],
   "source": [
    "# Product Attribute uniformly distributed, i.e. U(1,2)\n",
    "random_obs_product_chars = 1 + np.random.rand(num_obs)\n",
    "# Product attribute constant\n",
    "constant_obs_product_chars = np.ones(num_obs)\n",
    "# Joint both\n",
    "obs_product_characteristics = np.column_stack(\n",
    "    [constant_obs_product_chars, random_obs_product_chars]\n",
    ").reshape((num_markets, num_brands, 2))\n",
    "\n",
    "# Cost Shifters, U(0,1)\n",
    "cost_shifters = np.random.rand(num_markets, num_brands, 3)"
   ]
  },
  {
   "attachments": {},
   "cell_type": "markdown",
   "id": "a8068509",
   "metadata": {},
   "source": [
    "#### Create unobserved characteristics"
   ]
  },
  {
   "cell_type": "code",
   "execution_count": null,
   "id": "2fb17f22",
   "metadata": {
    "ExecuteTime": {
     "end_time": "2023-06-15T17:33:57.778243620Z",
     "start_time": "2023-06-15T17:33:56.063670217Z"
    }
   },
   "outputs": [],
   "source": [
    "# Degree of endogeneity\n",
    "# covariance in share and price eq. errors\n",
    "true_covariance = np.array([[1, 0.7], [0.7, 1]])\n",
    "true_mean = np.zeros(2)\n",
    "\n",
    "# Unobserved characteristics: omeg and Ksi  ## #Do we need the reshape?\n",
    "unobs_characteristics = np.random.multivariate_normal(\n",
    "    mean=true_mean, cov=true_covariance, size=(num_markets, num_brands)\n",
    ")\n",
    "unobs_demand_characteristic = unobs_characteristics[:, :, 0]\n",
    "unobs_cost_characteristic = unobs_characteristics[:, :, 1]"
   ]
  },
  {
   "attachments": {},
   "cell_type": "markdown",
   "id": "50846cae",
   "metadata": {},
   "source": [
    "#### Assume true parameters"
   ]
  },
  {
   "cell_type": "code",
   "execution_count": null,
   "id": "e45d6018",
   "metadata": {
    "ExecuteTime": {
     "end_time": "2023-06-15T17:33:57.838212833Z",
     "start_time": "2023-06-15T17:33:56.143683357Z"
    }
   },
   "outputs": [],
   "source": [
    "# Marginal cost Equation Parameters\n",
    "obs_cost_parameters = np.array([0.7, 0.7])\n",
    "unobs_cost_parameters = np.array([1, 1, 1])\n",
    "\n",
    "# Utility parameters\n",
    "characteristic_preference_params = np.array([2, 2])\n",
    "price_preference_param = -2"
   ]
  },
  {
   "attachments": {},
   "cell_type": "markdown",
   "id": "0ee0c598",
   "metadata": {},
   "source": [
    "#### Calculate prices, mean utility and shares\n",
    "\n",
    "To simulate the data, you must code a function computing a $(T\\times J)\\times 1$ vector containing market shares using equation (2)."
   ]
  },
  {
   "cell_type": "code",
   "execution_count": null,
   "id": "5d96d162",
   "metadata": {
    "ExecuteTime": {
     "end_time": "2023-06-15T17:33:57.990783667Z",
     "start_time": "2023-06-15T17:33:56.248164611Z"
    }
   },
   "outputs": [],
   "source": [
    "def calc_marginal_costs(gamma_1, gamma_2, x, w, omega):\n",
    "    \"\"\"This function calculates the marginal costs given product characteristics and cost shifters.\n",
    "    Parameters\n",
    "    ----------\n",
    "    gamma_1 (np.ndarray):\n",
    "        Marginal cost parameters for product characteristics. Shape is (num_characteristics,).\n",
    "    gamma_2 (np.ndarray):\n",
    "        Marginal cost parameters for cost shifters. Shape is (num_cost_shifters,).\n",
    "    x (np.ndarray):\n",
    "        Product characteristics. Shape is (num_markets, num_products, num_characteristics).\n",
    "    w (np.ndarray):\n",
    "        Cost shifters. Shape is (num_markets, num_products, num_cost_shifters).\n",
    "\n",
    "    Returns\n",
    "    -------\n",
    "    np.ndarray\n",
    "        Marginal costs. Shape is (num_markets, num_products).\n",
    "    \"\"\"\n",
    "    return x @ gamma_1 + w @ gamma_2 + omega"
   ]
  },
  {
   "cell_type": "code",
   "execution_count": null,
   "id": "2c631c2a",
   "metadata": {
    "ExecuteTime": {
     "end_time": "2023-06-15T17:33:58.036297773Z",
     "start_time": "2023-06-15T17:33:56.297191015Z"
    }
   },
   "outputs": [],
   "source": [
    "def calc_shares_from_mean_utility(delta):\n",
    "    \"\"\"This function calculates the market shares given mean utility.\n",
    "    Parameters\n",
    "    ----------\n",
    "    delta (np.ndarray):\n",
    "        Mean utility. Shape is (num_markets, num_products).\n",
    "\n",
    "    Returns\n",
    "    -------\n",
    "    np.ndarray\n",
    "        Market shares. Shape is (num_markets, num_products).\n",
    "    \"\"\"\n",
    "    delta_exp = np.exp(delta)\n",
    "    shares = np.divide(delta_exp.T, 1 + delta_exp.sum(axis=1)).T\n",
    "    return shares"
   ]
  },
  {
   "cell_type": "code",
   "execution_count": null,
   "id": "c0f47b99",
   "metadata": {
    "ExecuteTime": {
     "end_time": "2023-06-15T17:33:58.037486566Z",
     "start_time": "2023-06-15T17:33:56.298420747Z"
    }
   },
   "outputs": [],
   "source": [
    "def calc_shares_and_mean_utility(x, beta, p, alpha, ksi):\n",
    "    \"\"\"This function calculates the market shares and mean utility\n",
    "    given product characteristics, prices and unobserved demand characteristics.\n",
    "\n",
    "    Parameters\n",
    "    ----------\n",
    "    x (np.ndarray):\n",
    "        Product characteristics. Shape is (num_markets, num_products, 2).\n",
    "    beta (np.ndarray):\n",
    "        Preference parameters for product characteristics. Shape is (2,).\n",
    "    p (np.ndarray):\n",
    "        Prices. Shape is (num_markets, num_products).\n",
    "    alpha (float):\n",
    "        Preference parameter for price.\n",
    "    ksi (np.ndarray):\n",
    "        Unobserved demand characteristics. Shape is (num_markets, num_products).\n",
    "    \"\"\"\n",
    "    delta = x @ beta + p * alpha + ksi\n",
    "    shares = calc_shares_from_mean_utility(delta)\n",
    "    return shares, delta"
   ]
  },
  {
   "cell_type": "code",
   "execution_count": null,
   "id": "5dff8533",
   "metadata": {
    "ExecuteTime": {
     "end_time": "2023-06-15T17:33:58.089486129Z",
     "start_time": "2023-06-15T17:33:56.323606432Z"
    }
   },
   "outputs": [],
   "source": [
    "marginal_costs = prices_perfect_comp = calc_marginal_costs(\n",
    "    gamma_1=obs_cost_parameters,\n",
    "    gamma_2=unobs_cost_parameters,\n",
    "    x=obs_product_characteristics,\n",
    "    w=cost_shifters,\n",
    "    omega=unobs_cost_characteristic,\n",
    ")"
   ]
  },
  {
   "cell_type": "code",
   "execution_count": null,
   "id": "a5c94d49",
   "metadata": {},
   "outputs": [],
   "source": [
    "shares_perfect_comp, mean_utility_perfect_comb = calc_shares_and_mean_utility(\n",
    "    x=obs_product_characteristics,\n",
    "    beta=characteristic_preference_params,\n",
    "    p=prices_perfect_comp,\n",
    "    alpha=price_preference_param,\n",
    "    ksi=unobs_demand_characteristic,\n",
    ")"
   ]
  },
  {
   "attachments": {},
   "cell_type": "markdown",
   "id": "04649fb2",
   "metadata": {},
   "source": [
    "##### b) The simulated data at hand, \n",
    "\n",
    "- Forget parameter values and, following Berry (1994), estimate $\\{\\alpha,\\beta\\}$ using OLS and report the results."
   ]
  },
  {
   "cell_type": "code",
   "execution_count": null,
   "id": "343da6e9",
   "metadata": {},
   "outputs": [],
   "source": [
    "def ols_formula(y, x):\n",
    "    \"\"\"This function calculates the OLS estimates and standard errors.\n",
    "\n",
    "    Parameters\n",
    "    ----------\n",
    "    y (np.ndarray):\n",
    "        Dependent variable. Shape is (num_markets * num_products).\n",
    "    x (np.ndarray):\n",
    "        Independent variables. Shape is (num_markets * num_products, num_independent_variables).\n",
    "\n",
    "    Returns\n",
    "    -------\n",
    "    coeffs (np.ndarray):\n",
    "        OLS estimates. Shape is (num_independent_variables,).\n",
    "    std_errors (np.ndarray):\n",
    "        Standard errors. Shape is (num_independent_variables,).\n",
    "    \"\"\"\n",
    "    inverse_covars = np.linalg.inv(x.T @ x)\n",
    "    # OLS estimator formular\n",
    "    coeffs = inverse_covars @ (x.T @ y)\n",
    "\n",
    "    # Now estimation of standard errors\n",
    "    projection = x @ coeffs\n",
    "\n",
    "    residuals = y - projection\n",
    "    squared_sum_residuals = residuals @ residuals\n",
    "\n",
    "    degrees_of_freedom = x.shape[0] - x.shape[1]\n",
    "    covariance_est = (squared_sum_residuals / degrees_of_freedom) * inverse_covars\n",
    "    std_errors = np.sqrt(np.diag(covariance_est))\n",
    "    return coeffs, std_errors"
   ]
  },
  {
   "cell_type": "code",
   "execution_count": null,
   "id": "fef0d768",
   "metadata": {},
   "outputs": [],
   "source": [
    "# Generate demand objects for OLS:\n",
    "\n",
    "# Log share of the outside good\n",
    "log_outside_shares = np.log(1 - shares_perfect_comp.sum(axis=1))\n",
    "# Log share difference\n",
    "log_share_diff = np.log(shares_perfect_comp) - log_outside_shares[:, np.newaxis]\n",
    "# Reshape to get y vector\n",
    "y_ols = log_share_diff.reshape((num_markets * num_brands, ))\n",
    "\n",
    "# Generate and fill up covariates vector. Three entries.\n",
    "x_ols = np.empty((num_obs, 3))\n",
    "x_ols[:, :2] = obs_product_characteristics.reshape(num_obs, 2)\n",
    "x_ols[:, 2] = prices_perfect_comp.flatten()\n",
    "\n",
    "ols_formula(y=y_ols, x=x_ols)"
   ]
  },
  {
   "attachments": {},
   "cell_type": "markdown",
   "id": "66b6d6cd",
   "metadata": {},
   "source": [
    "- Estimate $\\{\\alpha,\\beta\\}$ by GMM using as instrumental variables the observable characteristics $x_{jt}$ and cost shifters $w_{jt}$, and report the results. \n",
    "\n",
    "First, write the GMM estimation function:"
   ]
  },
  {
   "cell_type": "code",
   "execution_count": null,
   "id": "1537847f",
   "metadata": {},
   "outputs": [],
   "source": [
    "def two_sls_formula(y, x, z):\n",
    "    \"\"\"This function calculates the 2SLS estimates and standard errors.\n",
    "    Parameters\n",
    "    ----------\n",
    "    y (np.ndarray):\n",
    "        Dependent variable. Shape is (num_markets * num_products).\n",
    "    x (np.ndarray):\n",
    "        Independent variables. Shape is (num_markets * num_products, num_independent_variables).\n",
    "    z (np.ndarray):\n",
    "        Instrumental variables. Shape is (num_markets * num_products, num_instrumental_variables).\n",
    "\n",
    "    Returns\n",
    "    -------\n",
    "    coeffs (np.ndarray):\n",
    "        2SLS estimates. (Shape is (num_independent_variables,))\n",
    "    std_errors (np.ndarray):\n",
    "        Standard errors. (Shape is (num_independent_variables,))\n",
    "    \"\"\"\n",
    "    # Step 1: 2SLS (homoscedastic errors), \"weighting matrix\" W=inv(Z'Z)\n",
    "    degrees_of_freedom = x.shape[0] - x.shape[1]\n",
    "\n",
    "    norm = np.mean(np.mean(z.T @ z))\n",
    "    W = np.linalg.inv((z.T @ z) / norm) / norm\n",
    "\n",
    "    mid_matrix = z @ W @ z.T\n",
    "    coeffs = np.linalg.inv(x.T @ mid_matrix @ x) @ (x.T @ mid_matrix @ y)\n",
    "\n",
    "    residuals = y - x @ coeffs\n",
    "    squared_sum_residuals = residuals.T @ residuals\n",
    "\n",
    "    inverse_covariates = np.linalg.inv(x.T @ mid_matrix @ x)\n",
    "    estimator_cov = (squared_sum_residuals / degrees_of_freedom) * inverse_covariates # check this line: should divide element-wise and multiply by diagonal of inverse_covariates\n",
    "    std_errors = np.sqrt(np.diag(estimator_cov))\n",
    "\n",
    "    return coeffs, std_errors, residuals\n",
    "\n",
    "\n",
    "def optimal_gmm(y, x, z, residuals_raw):\n",
    "    \"\"\"This function calculates the optimal GMM estimates and standard errors.\n",
    "    Parameters\n",
    "    ----------\n",
    "    y (np.ndarray):\n",
    "        Dependent variable. Shape is (num_markets * num_products).\n",
    "    x (np.ndarray):\n",
    "        Independent variables. Shape is (num_markets * num_products, num_independent_variables).\n",
    "    z (np.ndarray):\n",
    "        Instrumental variables. Shape is (num_markets * num_products, num_instrumental_variables).\n",
    "    residuals_raw (np.ndarray):\n",
    "        Residuals from the first step of 2SLS. Shape is (num_markets * num_products).\n",
    "\n",
    "    Returns\n",
    "    -------\n",
    "    coeffs (np.ndarray):\n",
    "        Optimal GMM estimates. Shape is (num_independent_variables,).\n",
    "    std_errors (np.ndarray):\n",
    "        Standard errors. Shape is (num_independent_variables,).\n",
    "    \"\"\"\n",
    "    degrees_of_freedom = x.shape[0] - x.shape[1]\n",
    "\n",
    "    instrument_residuals = z * residuals_raw[:, np.newaxis]\n",
    "    updated_weight_mat = instrument_residuals.T @ instrument_residuals\n",
    "\n",
    "    mid_matrix = z @ np.linalg.inv(updated_weight_mat) @ z.T\n",
    "    coeffs = np.linalg.inv(x.T @ mid_matrix @ x) @ (x.T @ mid_matrix @ y)\n",
    "\n",
    "    residuals = y - x @ coeffs\n",
    "    squared_sum_residuals = residuals.T @ residuals\n",
    "\n",
    "    inverse_covariates = np.linalg.inv(x.T @ mid_matrix @ x)\n",
    "    covariance_estimated = (\n",
    "        squared_sum_residuals / degrees_of_freedom\n",
    "    ) * inverse_covariates\n",
    "    std_errors = np.sqrt(np.diag(covariance_estimated))\n",
    "    return coeffs, std_errors"
   ]
  },
  {
   "attachments": {},
   "cell_type": "markdown",
   "id": "69200828",
   "metadata": {},
   "source": [
    "Estimate the model."
   ]
  },
  {
   "cell_type": "code",
   "execution_count": null,
   "id": "f4939c32",
   "metadata": {},
   "outputs": [],
   "source": [
    "# Generate array for instrument 1\n",
    "instruments_1 = np.empty((num_obs, 3))\n",
    "instruments_1[:, :2] = obs_product_characteristics.reshape(num_obs, 2)\n",
    "\n",
    "sum_product_characteristics = obs_product_characteristics[:, :, 1].sum(axis=1)[\n",
    "    :, np.newaxis\n",
    "]\n",
    "instruments_1[:, 2] = (\n",
    "    sum_product_characteristics - obs_product_characteristics[:, :, 1]\n",
    ").flatten()"
   ]
  },
  {
   "cell_type": "code",
   "execution_count": null,
   "id": "0b2e1343",
   "metadata": {},
   "outputs": [],
   "source": [
    "# By 2SLS\n",
    "estimates_2SLS, stdt_2SLS, residuals_2SLS = two_sls_formula(\n",
    "    y=y_ols, x=x_ols, z=instruments_1\n",
    ")\n",
    "estimates_2SLS, stdt_2SLS"
   ]
  },
  {
   "cell_type": "code",
   "execution_count": null,
   "id": "c517ca57",
   "metadata": {},
   "outputs": [],
   "source": [
    "# And by optimal GMM\n",
    "estimates_opt_GMM, stdt_opt_GMM = optimal_gmm(\n",
    "    y=y_ols, x=x_ols, z=instruments_1, residuals_raw=residuals_2SLS\n",
    ")\n",
    "estimates_opt_GMM, stdt_opt_GMM"
   ]
  },
  {
   "cell_type": "code",
   "execution_count": null,
   "id": "73b639ef",
   "metadata": {},
   "outputs": [],
   "source": [
    "# Create instruments 2 and estimate by 2SLS\n",
    "instruments_2 = np.concatenate((obs_product_characteristics.reshape(num_obs, 2), cost_shifters.reshape(num_obs, 3)), axis=1)\n",
    "estimates_2SLS, stdt_2SLS, residuals_2SLS = two_sls_formula(\n",
    "    y=y_ols, x=x_ols, z=instruments_2\n",
    ")\n",
    "estimates_2SLS, stdt_2SLS"
   ]
  },
  {
   "cell_type": "code",
   "execution_count": null,
   "id": "abe570f8",
   "metadata": {},
   "outputs": [],
   "source": [
    "# And by optimal GMM\n",
    "optimal_gmm(y=y_ols, x=x_ols, z=instruments_2, residuals_raw=residuals_2SLS)"
   ]
  },
  {
   "attachments": {},
   "cell_type": "markdown",
   "id": "1025dfaa",
   "metadata": {},
   "source": [
    "### 2. Solving for a static industry equilibrium. \n",
    "\n",
    "Now consider an imperfectly competitive industry, that is $p_{jt} \\neq c_{jt}$. Take the market share equation, cost and demand parameters from above as given. Assume that single-product firms j maximize profits given by\n",
    "\n",
    "\\begin{equation}\n",
    "\\pi_{jt} = (p_{jt} - c_{jt})s_{jt}L_{t},\n",
    "\\end{equation}\n",
    "\n",
    "where $c_{jt}$ are marginal cost and $L_{t}$ market size, so that the system of FOC for a Nash equilibrium:\n",
    "    \n",
    "\\begin{equation}\n",
    "s_{jt} + (p_{jt} - c_{jt})\\frac{\\partial s_{jt}}{\\partial p_{jt}} = 0\n",
    "\\end{equation}\n",
    "\n",
    "With multi-product firms, it is useful to write expression (4) in vector notation as $s_t+\\Delta_t(p_t-c_t)=0,$ where $\\Delta_t(j,k)$ denotes a diagonal matrix of own-price derivatives and off-diagonal elements according to market structure. With single-product firms, off-diagonal elements are equal to zero so that $\\Delta_t$ can be collapsed to a vector. If marginal cost are known, we obtain the supply side by solving the system for $c_t$:\n",
    "\n",
    "\\begin{equation}\n",
    "p_t+\\Delta_t^{-1}s_t = c_t\n",
    "\\end{equation}\n",
    "\n",
    "For single-product firms, $\\partial s_{jt} / \\partial p_{jt}$ is given by $\\alpha s_{jt} (1-s_{jt})$.\n",
    "\n",
    "\n",
    "##### a) Generate a $(T\\times J)\\times 1$ vector $\\Delta$ containing market share derivatives with respect to own-price."
   ]
  },
  {
   "cell_type": "code",
   "execution_count": null,
   "id": "8d2dd8b1",
   "metadata": {},
   "outputs": [],
   "source": [
    "def market_derivatives_one_product_firm(shares, alpha):\n",
    "    \"\"\"This function calculates the market share derivatives for a single product firm.\n",
    "\n",
    "    Parameters\n",
    "    ----------\n",
    "    shares (np.ndarray):\n",
    "        Market shares. Shape is (num_markets * num_products,).\n",
    "    alpha (float):\n",
    "        Price preference parameter.\n",
    "\n",
    "    Returns\n",
    "    -------\n",
    "    derivatives (np.ndarray):\n",
    "        Market share derivatives. Shape is (num_markets * num_products,).\n",
    "    \"\"\"\n",
    "    return alpha * shares * (1 - shares)"
   ]
  },
  {
   "cell_type": "code",
   "execution_count": null,
   "id": "ca9c3111",
   "metadata": {},
   "outputs": [],
   "source": [
    "derivatives = market_derivatives_one_product_firm(\n",
    "    shares=shares_perfect_comp, alpha=price_preference_param\n",
    ")\n",
    "derivatives.shape"
   ]
  },
  {
   "attachments": {},
   "cell_type": "markdown",
   "id": "061b8c7d",
   "metadata": {},
   "source": [
    "##### b) compute a $(T\\times J)\\times 1$ vector $p$ containing (Bertrand-Nash) equilibrium prices, using equation (5) and a root-finding function, and report the mean, minimum, and maximum industry price."
   ]
  },
  {
   "cell_type": "code",
   "execution_count": null,
   "id": "a7cb23e0",
   "metadata": {},
   "outputs": [],
   "source": [
    "def root_diff(p, mc, x, beta, alpha, ksi):\n",
    "    \"\"\"This is the auxiliary function for the root finding. The prices p will be given\n",
    "    as a flat vector and the function needs to return a flat vector.\n",
    "\n",
    "    Parameters\n",
    "    ----------\n",
    "    p (np.ndarray):\n",
    "        Prices. Shape is (num_markets * num_products,).\n",
    "    mc (np.ndarray):\n",
    "        Marginal costs. Shape is (num_markets * num_products,).\n",
    "    x (np.ndarray):\n",
    "        Product characteristics. Shape is (num_markets * num_products, num_characteristics).\n",
    "\n",
    "    Returns\n",
    "    -------\n",
    "    diff (np.ndarray):\n",
    "        Difference between left and right hand side of the root finding problem. Shape is (num_markets * num_products,).\n",
    "    \"\"\"\n",
    "    p_int = p.reshape((x.shape[0], x.shape[1]))\n",
    "    shares, _ = calc_shares_and_mean_utility(x, beta, p_int, alpha, ksi)\n",
    "    market_share_dev = market_derivatives_one_product_firm(shares, alpha)\n",
    "    return (mc - p_int - np.divide(shares, market_share_dev)).flatten()"
   ]
  },
  {
   "cell_type": "code",
   "execution_count": null,
   "id": "879f304b",
   "metadata": {},
   "outputs": [],
   "source": [
    "diff_from_price = partial(\n",
    "    root_diff,\n",
    "    mc=marginal_costs,\n",
    "    x=obs_product_characteristics,\n",
    "    beta=obs_cost_parameters,\n",
    "    alpha=price_preference_param,\n",
    "    ksi=unobs_demand_characteristic,\n",
    ")"
   ]
  },
  {
   "cell_type": "code",
   "execution_count": null,
   "id": "a2b1bdd3",
   "metadata": {},
   "outputs": [],
   "source": [
    "result_root = root(diff_from_price, prices_perfect_comp)\n",
    "prices_imperfect_comp = result_root[\"x\"].reshape((num_markets, num_brands))\n",
    "print([np.min(prices_imperfect_comp),np.mean(prices_imperfect_comp),np.max(prices_imperfect_comp)])\n",
    "\n",
    "print(f'{result_root.success = }')\n",
    "print(result_root.message)"
   ]
  },
  {
   "attachments": {},
   "cell_type": "markdown",
   "id": "330e4b98",
   "metadata": {},
   "source": [
    "### 3. Contraction Mapping.\n",
    "\n",
    "Newton's method is an important tool in nonlinear optimization. It is used to find roots of a function $f(x)$. Write a function finding the number $\\sqrt{a}$ by iterating $x_{t+1}=x_t-\\frac{f(x_t)}{f'(x_t)}$. Hint: $\\sqrt{a}$ is the positive root of $f(x)=a-x^2$.\n",
    "\n",
    "Note: by the Contraction Mapping Principle (Banach Fixed Point Theorem) this method is a contraction under the conditions that \n",
    "1) $f(x)$ has a continuous second derivative, \n",
    "2) $f'(x) \\neq 0\\ \\forall\\ x \\in \\mathbb{R}$, and \n",
    "3) a $q \\in (0,1)$ exists such that $|f(x)f''(x)| \\leq q |f'(x)|^2\\ \\forall\\ x \\in \\mathbb{R}$.\n"
   ]
  },
  {
   "cell_type": "code",
   "execution_count": null,
   "id": "218b5be8",
   "metadata": {},
   "outputs": [],
   "source": [
    "# Generate contraction mapping\n",
    "def newton_sqrt(a, tol=1e-12):\n",
    "    \"\"\"This function calculates the square root of a number a using Newton's method.\n",
    "\n",
    "    Parameters\n",
    "    ----------\n",
    "    a (float):\n",
    "        Number to calculate the square root of.\n",
    "    tol (float):\n",
    "        Tolerance level for the convergence of the algorithm.\n",
    "\n",
    "    Returns\n",
    "    -------\n",
    "    x_t1 (float):\n",
    "        Square root of a.\n",
    "    \"\"\"\n",
    "    if a < 0:\n",
    "        raise ValueError(\"Number a should be positive.\")\n",
    "\n",
    "    x_t = a / 2\n",
    "    x_t1 = a / 2 - 1\n",
    "    i = 0\n",
    "\n",
    "    while abs(x_t1 - x_t) > tol:\n",
    "        x_t = x_t1\n",
    "        f_t = a - x_t**2\n",
    "        f_t_derivative = -2 * x_t\n",
    "        x_t1 = x_t - f_t / f_t_derivative\n",
    "        i += 1\n",
    "        print(f\"Value at iteration {i} is {x_t1:.10f}.\")\n",
    "\n",
    "    return x_t1"
   ]
  },
  {
   "cell_type": "code",
   "execution_count": null,
   "id": "9546c5e2",
   "metadata": {},
   "outputs": [],
   "source": [
    "newton_sqrt(16)"
   ]
  }
 ],
 "metadata": {
  "kernelspec": {
   "display_name": "Python 3 (ipykernel)",
   "language": "python",
   "name": "python3"
  },
  "language_info": {
   "codemirror_mode": {
    "name": "ipython",
    "version": 3
   },
   "file_extension": ".py",
   "mimetype": "text/x-python",
   "name": "python",
   "nbconvert_exporter": "python",
   "pygments_lexer": "ipython3",
   "version": "3.12.0"
  }
 },
 "nbformat": 4,
 "nbformat_minor": 5
}
